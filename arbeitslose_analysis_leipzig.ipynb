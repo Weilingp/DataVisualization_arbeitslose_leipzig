{
 "cells": [
  {
   "cell_type": "code",
   "execution_count": 1,
   "id": "d17105e1-62f1-4fc2-8c58-307883329754",
   "metadata": {},
   "outputs": [],
   "source": [
    "import pandas as pd\n",
    "import os\n",
    "# import nltk\n",
    "# import re\n",
    "import matplotlib.pyplot as plt\n",
    "\n",
    "# import wordninja\n",
    "# from transformers import pipeline\n",
    "#from transformers import AutoModelFOrSequenceClassification\n",
    "# from nltk.sentiment import SentimentIntensityAnalyzer\n",
    "# from nltk.sentiment.vader import SentimentIntensityAnalyzer\n",
    "# from tqdm.notebook import tqdm\n",
    "# # from scipy.special import softmax\n",
    "# from textblob import TextBlob\n",
    "# from wordcloud import WordCloud\n",
    "import numpy as np\n"
   ]
  },
  {
   "cell_type": "markdown",
   "id": "3d1686d9-6920-4b26-8a93-9758ea1ad355",
   "metadata": {
    "tags": []
   },
   "source": [
    "# Loading raw dataset into pandas. The source link is here:\n",
    "###### r\" https://opendata.leipzig.de/en/dataset/arbeitslose-jahreszahlen/resource/c4cc8031-ac8e-47b6-81ac-2c6db662502c \""
   ]
  },
  {
   "cell_type": "code",
   "execution_count": 2,
   "id": "17a02297-9685-45c8-8313-4a72ffd1a267",
   "metadata": {
    "tags": []
   },
   "outputs": [
    {
     "name": "stdout",
     "output_type": "stream",
     "text": [
      "<class 'pandas.core.frame.DataFrame'>\n",
      "RangeIndex: 1258 entries, 0 to 1257\n",
      "Data columns (total 24 columns):\n",
      " #   Column       Non-Null Count  Dtype  \n",
      "---  ------       --------------  -----  \n",
      " 0   Gebiet       1258 non-null   object \n",
      " 1   Sachmerkmal  1258 non-null   object \n",
      " 2   2000         592 non-null    float64\n",
      " 3   2001         592 non-null    float64\n",
      " 4   2002         592 non-null    object \n",
      " 5   2003         592 non-null    float64\n",
      " 6   2004         592 non-null    float64\n",
      " 7   2005         592 non-null    float64\n",
      " 8   2006         740 non-null    float64\n",
      " 9   2007         740 non-null    float64\n",
      " 10  2008         740 non-null    float64\n",
      " 11  2009         740 non-null    float64\n",
      " 12  2010         740 non-null    float64\n",
      " 13  2011         666 non-null    float64\n",
      " 14  2012         740 non-null    float64\n",
      " 15  2013         740 non-null    float64\n",
      " 16  2014         740 non-null    float64\n",
      " 17  2015         740 non-null    float64\n",
      " 18  2016         740 non-null    float64\n",
      " 19  2017         740 non-null    float64\n",
      " 20  2018         1258 non-null   float64\n",
      " 21  2019         1258 non-null   float64\n",
      " 22  2020         1184 non-null   float64\n",
      " 23  2021         1258 non-null   float64\n",
      "dtypes: float64(21), object(3)\n",
      "memory usage: 236.0+ KB\n"
     ]
    }
   ],
   "source": [
    "df = pd.read_csv('Erwerbstätigkeit_und_Arbeitsmarkt_Arbeitslose.csv',decimal=\",\")\n",
    "df.info()"
   ]
  },
  {
   "cell_type": "code",
   "execution_count": 6,
   "id": "d3f4b90a-d863-44c0-a32a-27c25bab4aef",
   "metadata": {},
   "outputs": [],
   "source": [
    "df['2002'].replace(\".\", \n",
    "           \"\", \n",
    "           inplace=True)\n",
    "df['2002'].replace(',', '.', regex=True, inplace=True)"
   ]
  },
  {
   "cell_type": "code",
   "execution_count": 7,
   "id": "9ebb930c-5026-4b7d-8f97-55cd237cbb72",
   "metadata": {},
   "outputs": [],
   "source": [
    "df['2002']=pd.to_numeric(df['2002'])"
   ]
  },
  {
   "cell_type": "code",
   "execution_count": 8,
   "id": "5fb9d8b0-7ebd-49fa-b950-f6aa37ea43ae",
   "metadata": {},
   "outputs": [
    {
     "name": "stdout",
     "output_type": "stream",
     "text": [
      "<class 'pandas.core.frame.DataFrame'>\n",
      "RangeIndex: 1258 entries, 0 to 1257\n",
      "Data columns (total 24 columns):\n",
      " #   Column       Non-Null Count  Dtype  \n",
      "---  ------       --------------  -----  \n",
      " 0   Gebiet       1258 non-null   object \n",
      " 1   Sachmerkmal  1258 non-null   object \n",
      " 2   2000         592 non-null    float64\n",
      " 3   2001         592 non-null    float64\n",
      " 4   2002         590 non-null    float64\n",
      " 5   2003         592 non-null    float64\n",
      " 6   2004         592 non-null    float64\n",
      " 7   2005         592 non-null    float64\n",
      " 8   2006         740 non-null    float64\n",
      " 9   2007         740 non-null    float64\n",
      " 10  2008         740 non-null    float64\n",
      " 11  2009         740 non-null    float64\n",
      " 12  2010         740 non-null    float64\n",
      " 13  2011         666 non-null    float64\n",
      " 14  2012         740 non-null    float64\n",
      " 15  2013         740 non-null    float64\n",
      " 16  2014         740 non-null    float64\n",
      " 17  2015         740 non-null    float64\n",
      " 18  2016         740 non-null    float64\n",
      " 19  2017         740 non-null    float64\n",
      " 20  2018         1258 non-null   float64\n",
      " 21  2019         1258 non-null   float64\n",
      " 22  2020         1184 non-null   float64\n",
      " 23  2021         1258 non-null   float64\n",
      "dtypes: float64(22), object(2)\n",
      "memory usage: 236.0+ KB\n"
     ]
    }
   ],
   "source": [
    "df.info()"
   ]
  },
  {
   "cell_type": "code",
   "execution_count": 9,
   "id": "44b387ba-5dda-4899-86db-fb74271882db",
   "metadata": {},
   "outputs": [],
   "source": [
    "df.to_csv(\"arbeitslose_analysis_leipzig.csv\")"
   ]
  },
  {
   "cell_type": "markdown",
   "id": "63392484-d715-487f-be53-dfa9075d0015",
   "metadata": {},
   "source": [
    "# Explore the overall of the data messages. \n",
    "### let's take look at each statistical raw in each year in total in the whole city leipzig. so that why we take out 'Gebiet' as this index is not relevent."
   ]
  },
  {
   "cell_type": "code",
   "execution_count": null,
   "id": "f2f64804-014e-43a6-82db-9d6f936fa01b",
   "metadata": {},
   "outputs": [],
   "source": []
  },
  {
   "cell_type": "code",
   "execution_count": null,
   "id": "e2ce2e33-ac44-49eb-9dab-22ba5478adb0",
   "metadata": {},
   "outputs": [],
   "source": [
    "df_no_Gebiet=df[['Sachmerkmal', '2000', '2001', '2002', '2003', '2004', '2005',\n",
    "       '2006', '2007', '2008', '2009', '2010', '2011', '2012', '2013', '2014',\n",
    "       '2015', '2016', '2017', '2018', '2019', '2020', '2021']] "
   ]
  },
  {
   "cell_type": "code",
   "execution_count": null,
   "id": "fb3d2c7e-090e-4e76-a3d4-75273dbb98e8",
   "metadata": {},
   "outputs": [],
   "source": [
    "df_no_Gebiet.head(3)"
   ]
  },
  {
   "cell_type": "code",
   "execution_count": null,
   "id": "111ec79a-9e30-4c1a-9d14-5e81915d37af",
   "metadata": {},
   "outputs": [],
   "source": [
    "df_no_Gebiet['2002'].replace(',', '.', regex=True, inplace=True)"
   ]
  },
  {
   "cell_type": "code",
   "execution_count": null,
   "id": "f71e4608-160c-493c-921c-afb7b385ff0f",
   "metadata": {},
   "outputs": [],
   "source": [
    "\n",
    "\n",
    "# l = df_no_Gebiet['2002']\n",
    "  \n",
    "# i = 0\n",
    "# while i < len(l):\n",
    "#     # replace hardik with shardul\n",
    "#     for coma in l[i]:\n",
    "#         if coma == ',':\n",
    "#             coma.replace(\",\",\".\")\n",
    "#     i += 1    \n",
    "# # return l\n",
    "  \n",
    "\n",
    "  \n",
    "# # # print list\n",
    "# print(l.loc[516:520])"
   ]
  },
  {
   "cell_type": "code",
   "execution_count": null,
   "id": "317b1c62-f1a3-4fb2-8c1c-d5f7a0a956a6",
   "metadata": {},
   "outputs": [],
   "source": [
    "# df_no_Gebiet.loc[240:245,'2002'].str.replace('.','',regex=True)"
   ]
  },
  {
   "cell_type": "code",
   "execution_count": null,
   "id": "f9bc8df7-9ef4-4044-9965-a7a1eb9f749a",
   "metadata": {},
   "outputs": [],
   "source": [
    "df_no_Gebiet.loc[516:520,'2002']\n",
    "\n"
   ]
  },
  {
   "cell_type": "code",
   "execution_count": null,
   "id": "918580a8-0fc2-4e2c-a2ef-7db2caf10a76",
   "metadata": {},
   "outputs": [],
   "source": [
    "df_no_Gebiet.loc[516:530,'2002']"
   ]
  },
  {
   "cell_type": "markdown",
   "id": "05089c2d-00e7-4bc0-a14d-caf9a48d80c4",
   "metadata": {},
   "source": [
    "# replace Eu decimal ',' to UK version '.' and to enalbe math computing."
   ]
  },
  {
   "cell_type": "code",
   "execution_count": null,
   "id": "ace1420c-3d04-4cd1-9299-adf3ea33c4da",
   "metadata": {
    "tags": []
   },
   "outputs": [],
   "source": [
    "df_no_Gebiet['2002'].replace(\".\", \n",
    "           \"\", \n",
    "           inplace=True)"
   ]
  },
  {
   "cell_type": "code",
   "execution_count": null,
   "id": "8f883345-6f09-43ba-8e3c-2ffcd2bf7c43",
   "metadata": {},
   "outputs": [],
   "source": [
    "# df_no_Gebiet['2000']=pd.to_numeric(df_no_Gebiet['2000'])\n",
    "# df_no_Gebiet['2001']=pd.to_numeric(df_no_Gebiet['2001'])\n",
    "df_no_Gebiet['2002']=pd.to_numeric(df_no_Gebiet['2002'])\n",
    "# df_no_Gebiet['2003']=pd.to_numeric(df_no_Gebiet['2003'])\n",
    "# df_no_Gebiet['2004']=pd.to_numeric(df_no_Gebiet['2004'])\n",
    "# df_no_Gebiet['2005']=pd.to_numeric(df_no_Gebiet['2005'])\n",
    "# df_no_Gebiet['2006']=pd.to_numeric(df_no_Gebiet['2006'])\n",
    "# df_no_Gebiet['2007']=pd.to_numeric(df_no_Gebiet['2007'])\n",
    "# df_no_Gebiet['2008']=pd.to_numeric(df_no_Gebiet['2008'])\n",
    "# df_no_Gebiet['2009']=pd.to_numeric(df_no_Gebiet['2009'])\n",
    "# df_no_Gebiet['2010']=pd.to_numeric(df_no_Gebiet['2010'])\n",
    "# df_no_Gebiet['2011']=pd.to_numeric(df_no_Gebiet['2011'])\n",
    "# df_no_Gebiet['2012']=pd.to_numeric(df_no_Gebiet['2012'])\n",
    "# df_no_Gebiet['2013']=pd.to_numeric(df_no_Gebiet['2013'])\n",
    "# df_no_Gebiet['2014']=pd.to_numeric(df_no_Gebiet['2014'])\n",
    "# df_no_Gebiet['2015']=pd.to_numeric(df_no_Gebiet['2015'])\n",
    "# df_no_Gebiet['2016']=pd.to_numeric(df_no_Gebiet['2016'])\n",
    "# df_no_Gebiet['2017']=pd.to_numeric(df_no_Gebiet['2017'])\n",
    "# df_no_Gebiet['2018']=pd.to_numeric(df_no_Gebiet['2018'])\n",
    "# df_no_Gebiet['2019']=pd.to_numeric(df_no_Gebiet['2019'])\n",
    "# df_no_Gebiet['2020']=pd.to_numeric(df_no_Gebiet['2020'])\n",
    "# df_no_Gebiet['2021']=pd.to_numeric(df_no_Gebiet['2021'])\n"
   ]
  },
  {
   "cell_type": "markdown",
   "id": "cd43cbbd-e45f-4666-8859-df550dcb8d82",
   "metadata": {},
   "source": [
    "# Slicing data to check if its converted successfully"
   ]
  },
  {
   "cell_type": "code",
   "execution_count": null,
   "id": "ae9a54fe-6fb0-4ac7-af83-43afc626a8de",
   "metadata": {},
   "outputs": [],
   "source": []
  },
  {
   "cell_type": "code",
   "execution_count": null,
   "id": "038af5f0-d022-444b-9efc-6f9625b4ad2a",
   "metadata": {
    "tags": []
   },
   "outputs": [],
   "source": [
    "df_no_Gebiet.info()   # we will see columns starting from 2009 is still object dtype. This is because the numbers in the csv file is too large to process. "
   ]
  },
  {
   "cell_type": "code",
   "execution_count": null,
   "id": "b1c6eb0a-ff86-4261-bb94-a0010c3f157f",
   "metadata": {
    "tags": []
   },
   "outputs": [],
   "source": [
    "df_no_Gebiet.loc[520] # let's take a look at the exact data in the row where erro reported.  we see the numbers is at 9 decimals. "
   ]
  },
  {
   "cell_type": "code",
   "execution_count": null,
   "id": "d5ddc704-823c-4d9f-aed7-835b188864f3",
   "metadata": {},
   "outputs": [],
   "source": [
    "leipzig_unemployments_revolution = round(df_no_Gebiet.groupby(df_no_Gebiet.Sachmerkmal).agg('sum'),2)\n",
    "ausländer_revolustion = leipzig_unemployments_revolution.loc['Ausländer',:]\n",
    "ausländer_revolustion.plot()"
   ]
  },
  {
   "cell_type": "code",
   "execution_count": null,
   "id": "499b5fdf-cd2c-4183-8416-23e3cc7d1bfe",
   "metadata": {},
   "outputs": [],
   "source": [
    "df_no_Gebiet"
   ]
  },
  {
   "cell_type": "code",
   "execution_count": null,
   "id": "32a0c745-8655-4696-a448-881d48798bc3",
   "metadata": {},
   "outputs": [],
   "source": [
    "df_no_Gebiet.to_csv(\"arbeitslose_analysis_leipzig.csv\")"
   ]
  },
  {
   "cell_type": "code",
   "execution_count": null,
   "id": "41f77dd4-954a-4b27-8c6a-7563ea169c2b",
   "metadata": {},
   "outputs": [],
   "source": []
  }
 ],
 "metadata": {
  "kernelspec": {
   "display_name": "Python 3 (ipykernel)",
   "language": "python",
   "name": "python3"
  },
  "language_info": {
   "codemirror_mode": {
    "name": "ipython",
    "version": 3
   },
   "file_extension": ".py",
   "mimetype": "text/x-python",
   "name": "python",
   "nbconvert_exporter": "python",
   "pygments_lexer": "ipython3",
   "version": "3.9.12"
  }
 },
 "nbformat": 4,
 "nbformat_minor": 5
}
